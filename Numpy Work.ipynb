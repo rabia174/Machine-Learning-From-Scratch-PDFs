{
 "cells": [
  {
   "cell_type": "code",
   "execution_count": 13,
   "metadata": {},
   "outputs": [
    {
     "name": "stdout",
     "output_type": "stream",
     "text": [
      "d:\n",
      "[[ 0  1]\n",
      " [ 2  3]\n",
      " [ 4  5]\n",
      " [ 6  7]\n",
      " [ 8  9]\n",
      " [10 11]]\n",
      "d1:\n",
      "[[0 1]\n",
      " [2 3]\n",
      " [4 5]]\n",
      "d2:\n",
      "[[ 6  7]\n",
      " [ 8  9]\n",
      " [10 11]]\n"
     ]
    }
   ],
   "source": [
    "d=np.arange(12).reshape(6,2)\n",
    "print(\"d:\")\n",
    "print(d)\n",
    "d1,d2 = np.split(d, 2)\n",
    "print(\"d1:\")\n",
    "print(d1)\n",
    "print(\"d2:\")\n",
    "print(d2)"
   ]
  },
  {
   "cell_type": "code",
   "execution_count": 2,
   "metadata": {},
   "outputs": [
    {
     "name": "stdout",
     "output_type": "stream",
     "text": [
      "d:\n",
      "[[ 0  1  2  3  4  5]\n",
      " [ 6  7  8  9 10 11]]\n"
     ]
    },
    {
     "data": {
      "text/plain": [
       "array([[0, 1],\n",
       "       [6, 7]])"
      ]
     },
     "execution_count": 2,
     "metadata": {},
     "output_type": "execute_result"
    }
   ],
   "source": [
    "import numpy as np\n",
    "\n",
    "d=np.arange(12).reshape(2,6)\n",
    "print(\"d:\")\n",
    "print(d)\n",
    "parts=np.split(d, (2,3,5), axis=1)\n",
    "parts[0]"
   ]
  },
  {
   "cell_type": "code",
   "execution_count": 23,
   "metadata": {},
   "outputs": [],
   "source": [
    "a=np.array([[4,5,7],[9,6,8]])\n",
    "#print(len(a[1])) # number of columns\n",
    "#print(len(a)) # number of rows"
   ]
  },
  {
   "cell_type": "code",
   "execution_count": 28,
   "metadata": {},
   "outputs": [
    {
     "name": "stdout",
     "output_type": "stream",
     "text": [
      "For the matrix  A  the row vectors are as follows \n",
      "\n"
     ]
    },
    {
     "data": {
      "text/plain": [
       "[array([[4, 5, 7]]), array([[9, 6, 8]])]"
      ]
     },
     "execution_count": 28,
     "metadata": {},
     "output_type": "execute_result"
    }
   ],
   "source": [
    "def get_row_vectors( name, matrix ):\n",
    "    parts= np.split( matrix, len(matrix), axis=0 )\n",
    "    print(\"For the matrix \", name, \" the row vectors are as follows \\n\" )\n",
    "    return parts\n",
    "get_row_vectors(\"A\",a)"
   ]
  },
  {
   "cell_type": "code",
   "execution_count": 29,
   "metadata": {},
   "outputs": [
    {
     "name": "stdout",
     "output_type": "stream",
     "text": [
      "For the matrix A the column vectors are as follows \n",
      "\n"
     ]
    },
    {
     "data": {
      "text/plain": [
       "[array([[4],\n",
       "        [9]]),\n",
       " array([[5],\n",
       "        [6]]),\n",
       " array([[7],\n",
       "        [8]])]"
      ]
     },
     "execution_count": 29,
     "metadata": {},
     "output_type": "execute_result"
    }
   ],
   "source": [
    "def get_column_vectors( name, matrix ):\n",
    "    parts= np.split( matrix, len(matrix[1]), axis=1)\n",
    "    print(\"For the matrix\", name, \"the column vectors are as follows \\n\")\n",
    "    return parts\n",
    "get_column_vectors(\"A\", a)"
   ]
  },
  {
   "cell_type": "code",
   "execution_count": 85,
   "metadata": {},
   "outputs": [
    {
     "name": "stdout",
     "output_type": "stream",
     "text": [
      "3\n"
     ]
    },
    {
     "data": {
      "text/plain": [
       "array([[0, 0, 0, 0, 0],\n",
       "       [0, 0, 0, 0, 0],\n",
       "       [0, 0, 0, 0, 0],\n",
       "       [0, 0, 0, 0, 0],\n",
       "       [0, 0, 0, 0, 0]])"
      ]
     },
     "execution_count": 85,
     "metadata": {},
     "output_type": "execute_result"
    }
   ],
   "source": [
    "dim=int(input())\n",
    "p=np.full((dim+2,dim+2), fill_value=0)\n",
    "p"
   ]
  },
  {
   "cell_type": "code",
   "execution_count": 83,
   "metadata": {},
   "outputs": [
    {
     "name": "stdout",
     "output_type": "stream",
     "text": [
      "3\n"
     ]
    }
   ],
   "source": [
    "print(int(len(p)/2))"
   ]
  },
  {
   "cell_type": "code",
   "execution_count": 86,
   "metadata": {},
   "outputs": [
    {
     "data": {
      "text/plain": [
       "array([[0, 0, 1, 0, 0],\n",
       "       [0, 1, 0, 1, 0],\n",
       "       [1, 0, 0, 0, 1],\n",
       "       [0, 0, 0, 0, 0],\n",
       "       [0, 0, 0, 0, 0]])"
      ]
     },
     "execution_count": 86,
     "metadata": {},
     "output_type": "execute_result"
    }
   ],
   "source": [
    "p[0][dim-1]=1\n",
    "\n",
    "i=1\n",
    "l=1\n",
    "dim=dim-1\n",
    "border=int(len(p)/2)+1\n",
    "\n",
    "while i < border:\n",
    "    p[i][dim-l]=1\n",
    "    p[i][dim+l]=1\n",
    "\n",
    "    l=l+1\n",
    "    i=i+1\n",
    "last_dim_back=dim-1\n",
    "last_dim_on=dim+1\n",
    "p        "
   ]
  },
  {
   "cell_type": "code",
   "execution_count": 87,
   "metadata": {},
   "outputs": [
    {
     "name": "stdout",
     "output_type": "stream",
     "text": [
      "3\n",
      "1 3\n"
     ]
    }
   ],
   "source": [
    "print(border)\n",
    "print(last_dim_back, last_dim_on)"
   ]
  },
  {
   "cell_type": "code",
   "execution_count": 88,
   "metadata": {},
   "outputs": [
    {
     "data": {
      "text/plain": [
       "array([[0, 0, 1, 0, 0],\n",
       "       [0, 1, 0, 1, 0],\n",
       "       [1, 0, 0, 0, 1],\n",
       "       [0, 1, 0, 1, 0],\n",
       "       [0, 0, 1, 0, 0]])"
      ]
     },
     "execution_count": 88,
     "metadata": {},
     "output_type": "execute_result"
    }
   ],
   "source": [
    "while border < len(p)-1:\n",
    "      l=l-1\n",
    "      \n",
    "      p[border][last_dim_back]=1\n",
    "      p[border][last_dim_on]=1\n",
    "    \n",
    "      last_dim_back=last_dim_back+1\n",
    "      last_dim_on=last_dim_on-1\n",
    "    \n",
    "      border=border+1\n",
    "\n",
    "p[len(p)-1][dim]=1\n",
    "\n",
    "p"
   ]
  },
  {
   "cell_type": "code",
   "execution_count": 111,
   "metadata": {},
   "outputs": [
    {
     "name": "stdout",
     "output_type": "stream",
     "text": [
      "[[ 0  1  2]\n",
      " [ 3  4  5]\n",
      " [ 6  7  8]\n",
      " [ 9 10 11]]\n",
      "\n",
      "\n",
      "[[  0   1   4]\n",
      " [  9  16  25]\n",
      " [ 36  49  64]\n",
      " [ 81 100 121]]\n",
      "\n",
      "\n",
      "[  5  50 149 302]\n",
      "\n",
      "\n",
      "[ 2.23606798  7.07106781 12.20655562 17.3781472 ]\n",
      "\n",
      "\n"
     ]
    },
    {
     "data": {
      "text/plain": [
       "(4,)"
      ]
     },
     "execution_count": 111,
     "metadata": {},
     "output_type": "execute_result"
    }
   ],
   "source": [
    "#Exercise 14\n",
    "\n",
    "d=np.arange(12).reshape(4,3)\n",
    "print(d)\n",
    "print(\"\\n\")\n",
    "d=d*d\n",
    "print(d)\n",
    "print(\"\\n\")\n",
    "s=np.sum(d,axis=1)\n",
    "print(s)\n",
    "print(\"\\n\")\n",
    "t=np.sqrt(s)\n",
    "print(t)\n",
    "print(\"\\n\")\n",
    "t=np.array(t)\n",
    "t.shape\n",
    "#t=get_column_vectors(s)\n",
    "#print(\"T\",t)\n",
    "#farrays=get_row_vectors(\"D\",d)\n",
    "\n",
    "# 4 rows\n",
    "# 3 columns\n",
    "# the shape is (4,3)\n"
   ]
  },
  {
   "cell_type": "code",
   "execution_count": null,
   "metadata": {},
   "outputs": [],
   "source": []
  }
 ],
 "metadata": {
  "kernelspec": {
   "display_name": "Python 3",
   "language": "python",
   "name": "python3"
  },
  "language_info": {
   "codemirror_mode": {
    "name": "ipython",
    "version": 3
   },
   "file_extension": ".py",
   "mimetype": "text/x-python",
   "name": "python",
   "nbconvert_exporter": "python",
   "pygments_lexer": "ipython3",
   "version": "3.7.6"
  }
 },
 "nbformat": 4,
 "nbformat_minor": 4
}
