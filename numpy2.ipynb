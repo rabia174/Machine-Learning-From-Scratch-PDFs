{
  "nbformat": 4,
  "nbformat_minor": 0,
  "metadata": {
    "kernelspec": {
      "display_name": "Python 3",
      "language": "python",
      "name": "python3"
    },
    "language_info": {
      "codemirror_mode": {
        "name": "ipython",
        "version": 3
      },
      "file_extension": ".py",
      "mimetype": "text/x-python",
      "name": "python",
      "nbconvert_exporter": "python",
      "pygments_lexer": "ipython3",
      "version": "3.6.8"
    },
    "varInspector": {
      "cols": {
        "lenName": 16,
        "lenType": 16,
        "lenVar": 40
      },
      "kernels_config": {
        "python": {
          "delete_cmd_postfix": "",
          "delete_cmd_prefix": "del ",
          "library": "var_list.py",
          "varRefreshCmd": "print(var_dic_list())"
        },
        "r": {
          "delete_cmd_postfix": ") ",
          "delete_cmd_prefix": "rm(",
          "library": "var_list.r",
          "varRefreshCmd": "cat(var_dic_list()) "
        }
      },
      "types_to_exclude": [
        "module",
        "function",
        "builtin_function_or_method",
        "instance",
        "_Feature"
      ],
      "window_display": false
    },
    "colab": {
      "name": "numpy2.ipynb",
      "provenance": []
    }
  },
  "cells": [
    {
      "cell_type": "markdown",
      "metadata": {
        "id": "ClHEgJA38U5o",
        "colab_type": "text"
      },
      "source": [
        "<!--NAVIGATION-->\n",
        "\n",
        "\n",
        "<a href=\"https://colab.research.google.com/github/saskeli/x/blob/master/numpy2.ipynb\"><img align=\"left\" src=\"https://colab.research.google.com/assets/colab-badge.svg\" alt=\"Open in Colab\" title=\"Open and Execute in Google Colaboratory\"></a>\n",
        "\n",
        "|                                         -                                         |                                         -                                         |                                         -                                         |\n",
        "|-----------------------------------------------------------------------------------|-----------------------------------------------------------------------------------|-----------------------------------------------------------------------------------|\n",
        "|      [Exercise 1 (column comparison)](<#Exercise-1-(column-comparison&#41;>)      | [Exercise 2 (first half second half)](<#Exercise-2-(first-half-second-half&#41;>) |    [Exercise 3 (most frequent first)](<#Exercise-3-(most-frequent-first&#41;>)    |\n",
        "|           [Exercise 4 (matrix power)](<#Exercise-4-(matrix-power&#41;>)           |            [Exercise 5 (correlation)](<#Exercise-5-(correlation&#41;>)            |          [Exercise 6 (meeting lines)](<#Exercise-6-(meeting-lines&#41;>)          |\n",
        "|         [Exercise 7 (meeting planes)](<#Exercise-7-(meeting-planes&#41;>)         |   [Exercise 8 (almost meeting lines)](<#Exercise-8-(almost-meeting-lines&#41;>)   |                                                                                   |\n",
        "\n"
      ]
    },
    {
      "cell_type": "markdown",
      "metadata": {
        "id": "ZRyzW4AD8U5q",
        "colab_type": "text"
      },
      "source": [
        "# NumPy (continues)"
      ]
    },
    {
      "cell_type": "code",
      "metadata": {
        "id": "XMRx1cQp8U5r",
        "colab_type": "code",
        "colab": {}
      },
      "source": [
        "import numpy as np"
      ],
      "execution_count": null,
      "outputs": []
    },
    {
      "cell_type": "markdown",
      "metadata": {
        "id": "2tU2AXs18U5x",
        "colab_type": "text"
      },
      "source": [
        "## Comparisons and masking\n",
        "\n",
        "Just like NumPy allows element-wise arithmetic operations between arrays, for example addition of two arrays, it is also possible to compare two arrays element-wise. For example"
      ]
    },
    {
      "cell_type": "code",
      "metadata": {
        "id": "Ggw7ztE98U5y",
        "colab_type": "code",
        "colab": {}
      },
      "source": [
        "a=np.array([1,3,4])\n",
        "b=np.array([2,2,7])\n",
        "c = a < b\n",
        "print(c)"
      ],
      "execution_count": null,
      "outputs": []
    },
    {
      "cell_type": "markdown",
      "metadata": {
        "id": "29deEcbo8U53",
        "colab_type": "text"
      },
      "source": [
        "Now we can query whether all comparisons resulted `True`, or whether some comparison resulted `True`:"
      ]
    },
    {
      "cell_type": "code",
      "metadata": {
        "id": "29akUCRD8U54",
        "colab_type": "code",
        "colab": {}
      },
      "source": [
        "print(c.all())   # were all True\n",
        "print(c.any())   # was some comparison True"
      ],
      "execution_count": null,
      "outputs": []
    },
    {
      "cell_type": "markdown",
      "metadata": {
        "id": "cJoTzLXo8U59",
        "colab_type": "text"
      },
      "source": [
        "We can also count the number of comparisons that were `True`. This solution relies on the interpretation that `True` corresponds to 1 and `False` corresponds to 0:"
      ]
    },
    {
      "cell_type": "code",
      "metadata": {
        "id": "b0_bzrQ78U5-",
        "colab_type": "code",
        "colab": {}
      },
      "source": [
        "print(np.sum(c))"
      ],
      "execution_count": null,
      "outputs": []
    },
    {
      "cell_type": "markdown",
      "metadata": {
        "id": "21nVUtj08U6C",
        "colab_type": "text"
      },
      "source": [
        "Because the broadcasting rules apply also to comparison, we can write"
      ]
    },
    {
      "cell_type": "code",
      "metadata": {
        "id": "HKLzejyu8U6D",
        "colab_type": "code",
        "colab": {}
      },
      "source": [
        "print(a > 0)"
      ],
      "execution_count": null,
      "outputs": []
    },
    {
      "cell_type": "markdown",
      "metadata": {
        "id": "ez0jbivl8U6H",
        "colab_type": "text"
      },
      "source": [
        "To try these operations on real data, we download some weather statistics from Helsinki (Kumpula) weather station. More precisely, we will get the daily average temperatures from year 2017. We use the Pandas library, which we will cover later during this course, to load the data."
      ]
    },
    {
      "cell_type": "code",
      "metadata": {
        "id": "iShXdgOu8U6I",
        "colab_type": "code",
        "colab": {}
      },
      "source": [
        "import pandas as pd\n",
        "a=pd.read_csv(\"https://www.cs.helsinki.fi/u/jttoivon/dap/data/fmi/kumpula-weather-2017.csv\")['Air temperature (degC)'].values"
      ],
      "execution_count": null,
      "outputs": []
    },
    {
      "cell_type": "code",
      "metadata": {
        "id": "eQRRqCX_8U6M",
        "colab_type": "code",
        "colab": {}
      },
      "source": [
        "a"
      ],
      "execution_count": null,
      "outputs": []
    },
    {
      "cell_type": "code",
      "metadata": {
        "id": "1SCfpdYx8U6R",
        "colab_type": "code",
        "colab": {}
      },
      "source": [
        "print(\"Number of days with the temperature below zero\", np.sum(a < 0))"
      ],
      "execution_count": null,
      "outputs": []
    },
    {
      "cell_type": "markdown",
      "metadata": {
        "id": "DOTDGZVJ8U6U",
        "colab_type": "text"
      },
      "source": [
        "In core Python we can combine truth values using the `and`, `or`, and `not` keywords. For boolean array however we have to use the elementwise operators `&`, `|`, and `~`, respectively. An example of these:"
      ]
    },
    {
      "cell_type": "code",
      "metadata": {
        "id": "M86ot8xJ8U6V",
        "colab_type": "code",
        "colab": {}
      },
      "source": [
        "np.sum((0 < a) & (a < 10))     # Temperature is greater than 0 and less that 10 "
      ],
      "execution_count": null,
      "outputs": []
    },
    {
      "cell_type": "markdown",
      "metadata": {
        "id": "xBwBWgFw8U6Z",
        "colab_type": "text"
      },
      "source": [
        "Note that we had to use parentheses around the comparisons, because the precedence of the `&` is higher than that of `<`, and so it would have been performed before the comparisons."
      ]
    },
    {
      "cell_type": "markdown",
      "metadata": {
        "id": "_bzkud-M8U6a",
        "colab_type": "text"
      },
      "source": [
        "Another use of boolean arrays is that they can be used to select a subset of elements. For example"
      ]
    },
    {
      "cell_type": "code",
      "metadata": {
        "id": "gGdSPXlj8U6b",
        "colab_type": "code",
        "colab": {}
      },
      "source": [
        "c = a > 0\n",
        "print(c[:10])    # print only the first ten elements\n",
        "print(a[c])      # Select only the positive temperatures "
      ],
      "execution_count": null,
      "outputs": []
    },
    {
      "cell_type": "markdown",
      "metadata": {
        "id": "ikILn7Lb8U6h",
        "colab_type": "text"
      },
      "source": [
        "This operation is called *masking*. It can also be used to assign a new value. For example the following zeroes out the  negative temperatures:"
      ]
    },
    {
      "cell_type": "code",
      "metadata": {
        "id": "4vNVBO8I8U6i",
        "colab_type": "code",
        "colab": {}
      },
      "source": [
        "a[~c] = 0\n",
        "print(a)"
      ],
      "execution_count": null,
      "outputs": []
    },
    {
      "cell_type": "markdown",
      "metadata": {
        "id": "lNqlYn_a8U6m",
        "colab_type": "text"
      },
      "source": [
        "Compare this result with the original array `a` to make sure you understand what's going on!"
      ]
    },
    {
      "cell_type": "markdown",
      "metadata": {
        "id": "vKoEk9N98U6m",
        "colab_type": "text"
      },
      "source": [
        "#### <div class=\"alert alert-info\">Exercise 1 (column comparison)</div>\n",
        "\n",
        "Write function `column_comparison` that gets a two dimensional array as parameter. The function should return a new array containing those rows from the input that have the value in the second column larger than in the second last column. You may assume that the input contains at least two columns. Don't use loops, but instead vectorized operations. Try out your function in the main function.\n",
        "\n",
        "For array\n",
        "\n",
        "```\n",
        " [[8 9 3 8 8]\n",
        " [0 5 3 9 9]\n",
        " [5 7 6 0 4]\n",
        " [7 8 1 6 2]\n",
        " [2 1 3 5 8]]\n",
        "```\n",
        "the result would be\n",
        "```\n",
        " [[8 9 3 8 8]\n",
        " [5 7 6 0 4]\n",
        " [7 8 1 6 2]]\n",
        "```\n",
        "<hr/>"
      ]
    },
    {
      "cell_type": "markdown",
      "metadata": {
        "id": "0Kc0fjXc8U6n",
        "colab_type": "text"
      },
      "source": [
        "#### <div class=\"alert alert-info\">Exercise 2 (first half second half)</div>\n",
        "\n",
        "Write function `first_half_second_half` that gets a two dimensional array of shape `(n,2*m)` as a parameter. The input array has `2*m` columns. The output from the function should be a matrix with those rows from the input that have the sum of the first `m` elements larger than the sum of the last `m` elements on the row. Your solution should call the `np.sum` function or the corresponding method exactly twice.\n",
        "\n",
        "Example of usage:\n",
        "```python\n",
        "a = np.array([[1, 3, 4, 2],\n",
        "              [2, 2, 1, 2]])\n",
        "first_half_second_half(a)\n",
        "array([[2, 2, 1, 2]])\n",
        "```\n",
        "<hr/>"
      ]
    },
    {
      "cell_type": "markdown",
      "metadata": {
        "id": "pie7fou88U6o",
        "colab_type": "text"
      },
      "source": [
        "## Fancy indexing\n",
        "\n",
        "Using indexing we can get a single elements from an array. If we wanted multiple (not necessarily contiguous) elements, we would have to index several times:"
      ]
    },
    {
      "cell_type": "code",
      "metadata": {
        "id": "o20F_lVw8U6o",
        "colab_type": "code",
        "colab": {}
      },
      "source": [
        "np.random.seed(0)\n",
        "a=np.random.randint(0, 20,20)\n",
        "a2=np.array([a[2], a[5], a[7]])\n",
        "print(a)\n",
        "print(a2)"
      ],
      "execution_count": null,
      "outputs": []
    },
    {
      "cell_type": "markdown",
      "metadata": {
        "id": "Cwyh7Ibh8U6t",
        "colab_type": "text"
      },
      "source": [
        "That's quite verbose. *Fancy indexing* provides a concise syntax for accessing multiple elements:"
      ]
    },
    {
      "cell_type": "code",
      "metadata": {
        "id": "wtuXH55K8U6u",
        "colab_type": "code",
        "colab": {}
      },
      "source": [
        "idx=[2,5,7]           # List of indices\n",
        "print(a[idx])         # In fancy indexing in place of a single index, we can provide a list of indices\n",
        "print(a[[2,5,7]])     # Or directly"
      ],
      "execution_count": null,
      "outputs": []
    },
    {
      "cell_type": "markdown",
      "metadata": {
        "id": "54w4EHh08U6y",
        "colab_type": "text"
      },
      "source": [
        "We can also assign to multiple elements through fancy indexing:"
      ]
    },
    {
      "cell_type": "code",
      "metadata": {
        "id": "8fcqi_ZO8U6z",
        "colab_type": "code",
        "colab": {}
      },
      "source": [
        "a[idx] = -1\n",
        "print(a)"
      ],
      "execution_count": null,
      "outputs": []
    },
    {
      "cell_type": "markdown",
      "metadata": {
        "id": "lBFIw64H8U63",
        "colab_type": "text"
      },
      "source": [
        "Fancy indexing works also for higher dimensional arrays:"
      ]
    },
    {
      "cell_type": "code",
      "metadata": {
        "id": "wVk1btoW8U64",
        "colab_type": "code",
        "colab": {}
      },
      "source": [
        "b=np.arange(16).reshape(4,4)\n",
        "print(b)\n",
        "row=np.array([0,2])\n",
        "col=np.array([1,3])\n",
        "print(b[row, col])"
      ],
      "execution_count": null,
      "outputs": []
    },
    {
      "cell_type": "markdown",
      "metadata": {
        "id": "JOZeZhtD8U68",
        "colab_type": "text"
      },
      "source": [
        "Note that the result array was one dimensional! The shape of the result array is defined by the shape of the index arrays, not by the shape of the original array. The next example will demonstrate this."
      ]
    },
    {
      "cell_type": "code",
      "metadata": {
        "id": "LITz0CyW8U68",
        "colab_type": "code",
        "colab": {}
      },
      "source": [
        "row2=np.array([[0, 0], [2,2]])\n",
        "col2=np.array([[1,3], [1,3]])\n",
        "print(row2)\n",
        "print(col2)\n",
        "print(b[row2, col2])"
      ],
      "execution_count": null,
      "outputs": []
    },
    {
      "cell_type": "markdown",
      "metadata": {
        "id": "LMVTpmZ28U7D",
        "colab_type": "text"
      },
      "source": [
        "Both index arrays, row and col, had shape (2,2), so also the result was of shape (2,2). However, this form has some repetition in the indices. But we can rely that the broadcasting rules will enable us to avoid the repetition:"
      ]
    },
    {
      "cell_type": "code",
      "metadata": {
        "id": "xee0LjBu8U7E",
        "colab_type": "code",
        "colab": {}
      },
      "source": [
        "row2=row.reshape(2,1)   # has shape (2, 1)\n",
        "col2=col.reshape(1,2)   # has shape (1, 2)\n",
        "print(row2)\n",
        "print(col2)\n",
        "print(b[row2, col2])    # the index arrays will be broadcasted here to shape (2,2)"
      ],
      "execution_count": null,
      "outputs": []
    },
    {
      "cell_type": "markdown",
      "metadata": {
        "id": "VYeYK6-38U7K",
        "colab_type": "text"
      },
      "source": [
        "One can also combine normal indexing, slicing and fancy indexing:"
      ]
    },
    {
      "cell_type": "code",
      "metadata": {
        "id": "iG0dk_GQ8U7N",
        "colab_type": "code",
        "colab": {}
      },
      "source": [
        "b[:,[0,2]]"
      ],
      "execution_count": null,
      "outputs": []
    },
    {
      "cell_type": "markdown",
      "metadata": {
        "id": "qDqLUU018U7T",
        "colab_type": "text"
      },
      "source": [
        "## Sorting arrays\n",
        "\n"
      ]
    },
    {
      "cell_type": "code",
      "metadata": {
        "id": "GrggQMmt8U7U",
        "colab_type": "code",
        "colab": {}
      },
      "source": [
        "a=np.array([2,1,4,3,5])\n",
        "print(np.sort(a))          # Does not modify the argument\n",
        "print(a)"
      ],
      "execution_count": null,
      "outputs": []
    },
    {
      "cell_type": "code",
      "metadata": {
        "id": "IeJLQwb78U7l",
        "colab_type": "code",
        "colab": {}
      },
      "source": [
        "a.sort()            # Modifies the argument\n",
        "print(a)"
      ],
      "execution_count": null,
      "outputs": []
    },
    {
      "cell_type": "code",
      "metadata": {
        "id": "EOtNpAAB8U7p",
        "colab_type": "code",
        "colab": {}
      },
      "source": [
        "b=np.random.randint(0,10, (4,4))\n",
        "print(b)"
      ],
      "execution_count": null,
      "outputs": []
    },
    {
      "cell_type": "code",
      "metadata": {
        "id": "ssMC2pAt8U7u",
        "colab_type": "code",
        "colab": {}
      },
      "source": [
        "np.sort(b, axis=0)           # sort each column"
      ],
      "execution_count": null,
      "outputs": []
    },
    {
      "cell_type": "code",
      "metadata": {
        "id": "3qYS9xGN8U7x",
        "colab_type": "code",
        "colab": {}
      },
      "source": [
        "np.sort(b, axis=1)           # Sort each row"
      ],
      "execution_count": null,
      "outputs": []
    },
    {
      "cell_type": "markdown",
      "metadata": {
        "id": "CFN6Upat8U71",
        "colab_type": "text"
      },
      "source": [
        "Note that each row or column is sorted independently.\n",
        "\n",
        "A related operation is the `argsort` function. Which doesn't sort the elements, but returns the indices of the sorted elements. An example will demonstrate this:"
      ]
    },
    {
      "cell_type": "code",
      "metadata": {
        "id": "586zN7TI8U71",
        "colab_type": "code",
        "colab": {}
      },
      "source": [
        "a=np.array([23,12,47,35,59])\n",
        "print(\"Array a:\", a)\n",
        "idx = np.argsort(a)\n",
        "print(\"Indices:\", idx)"
      ],
      "execution_count": null,
      "outputs": []
    },
    {
      "cell_type": "markdown",
      "metadata": {
        "id": "z7ksIWcT8U74",
        "colab_type": "text"
      },
      "source": [
        "These indices say that the smallest element of the array is in position 1 of `a`, second smallest elements is in position 0 of `a`, third smallest is in position 3, and so on. We can verify that these indices will indeed order the elements using fancy indexing:"
      ]
    },
    {
      "cell_type": "code",
      "metadata": {
        "id": "YT2KW9Tz8U75",
        "colab_type": "code",
        "colab": {}
      },
      "source": [
        "print(a[idx])"
      ],
      "execution_count": null,
      "outputs": []
    },
    {
      "cell_type": "markdown",
      "metadata": {
        "id": "3sfghkxr8U78",
        "colab_type": "text"
      },
      "source": [
        "#### <div class=\"alert alert-info\">Exercise 3 (most frequent first)</div>\n",
        "\n",
        "**<span style=\"color:red\">Note:</span>** This exercise is fairly difficult. Feel free to skip if you get stuck.\n",
        "\n",
        "Write function `most_frequent_first` that gets a two dimensional array and an index `c` of a column as parameters. The function should then return the array whose rows are sorted based on column `c`, in the following way. Rows are ordered so that those rows with the most frequent element in column `c` come first, then come the rows with the second most frequent element in column `c`, and so on. Therefore, the values outside column `c` don't affect the ordering in any way.\n",
        "\n",
        "Example of usage:\n",
        "```\n",
        "a:\n",
        " [[5 0 3 3 7 9 3 5 2 4]\n",
        " [7 6 8 8 1 6 7 7 8 1]\n",
        " [5 9 8 9 4 3 0 3 5 0]\n",
        " [2 3 8 1 3 3 3 7 0 1]\n",
        " [9 9 0 4 7 3 2 7 2 0]\n",
        " [0 4 5 5 6 8 4 1 4 9]\n",
        " [8 1 1 7 9 9 3 6 7 2]\n",
        " [0 3 5 9 4 4 6 4 4 3]\n",
        " [4 4 8 4 3 7 5 5 0 1]\n",
        " [5 9 3 0 5 0 1 2 4 2]]\n",
        "print(most_frequent_first(a, -1))\n",
        " [[4 4 8 4 3 7 5 5 0 1]\n",
        " [2 3 8 1 3 3 3 7 0 1]\n",
        " [7 6 8 8 1 6 7 7 8 1]\n",
        " [5 9 3 0 5 0 1 2 4 2]\n",
        " [8 1 1 7 9 9 3 6 7 2]\n",
        " [9 9 0 4 7 3 2 7 2 0]\n",
        " [5 9 8 9 4 3 0 3 5 0]\n",
        " [0 3 5 9 4 4 6 4 4 3]\n",
        " [0 4 5 5 6 8 4 1 4 9]\n",
        " [5 0 3 3 7 9 3 5 2 4]]\n",
        "```\n",
        "\n",
        "If we look at the last column, we see that the number 1 appears three times, then both numbers 2 and 0 appear twice, and lastly numbers 3, 9, and 4 appear only once. Note that, for example, among those rows that contain in column `c` a number that appear twice in column `c` the order can be arbitrary.\n",
        "\n",
        "Hint: the function `np.unique` may be useful.\n",
        "\n",
        "<hr/>"
      ]
    },
    {
      "cell_type": "markdown",
      "metadata": {
        "id": "uWPtKMEH8U78",
        "colab_type": "text"
      },
      "source": [
        "## Matrix operations\n",
        "\n",
        "The `*` operator in NumPy corresponds to the element-wise product of two arrays. However, very often we would like to use the *matrix multiplication*. As a reminder, if $a$ and $b$ are two matrices with shapes $n \\times k$ and $k \\times m$ respectively, then the matrix product of $a$ and $b$ is the matrix $c$ with shape $n \\times m$, where $c_{ij} = \\sum_{h=1}^k a_{ih} b_{hj}$ for $1 \\le i \\le n$ and $1 \\le j \\le m$. In NumPy we can compute the matrix product using the `np.matmul` function or the `@` operator. An example of this:"
      ]
    },
    {
      "cell_type": "code",
      "metadata": {
        "id": "r-CokEne8U79",
        "colab_type": "code",
        "colab": {}
      },
      "source": [
        "np.random.seed(0)\n",
        "a=np.random.randint(0,10, (3,2))\n",
        "b=np.random.randint(0,10, (2,4))\n",
        "print(a)\n",
        "print(b)"
      ],
      "execution_count": null,
      "outputs": []
    },
    {
      "cell_type": "code",
      "metadata": {
        "id": "xI5CjoKO8U8B",
        "colab_type": "code",
        "colab": {}
      },
      "source": [
        "def info(name, a):\n",
        "    print(f\"{name} has dim {a.ndim}, shape {a.shape}, size {a.size}, and dtype {a.dtype}:\")\n",
        "    print(a)"
      ],
      "execution_count": null,
      "outputs": []
    },
    {
      "cell_type": "code",
      "metadata": {
        "id": "1tXHRAhH8U8E",
        "colab_type": "code",
        "colab": {}
      },
      "source": [
        "c=np.matmul(a,b)\n",
        "info(\"c\", c)"
      ],
      "execution_count": null,
      "outputs": []
    },
    {
      "cell_type": "code",
      "metadata": {
        "id": "6YKaxNaz8U8H",
        "colab_type": "code",
        "colab": {}
      },
      "source": [
        "print(a@b)      # This can be more convenient when complex expressions are used"
      ],
      "execution_count": null,
      "outputs": []
    },
    {
      "cell_type": "markdown",
      "metadata": {
        "id": "mmJOeswE8U8K",
        "colab_type": "text"
      },
      "source": [
        "So, matrices are just two dimensional arrays with the product defined differently from the element-wise product. Note that for the matrix product to be defined, the two matrices have to have compatible shapes. So the following would produce an error:"
      ]
    },
    {
      "cell_type": "code",
      "metadata": {
        "id": "oatYVtD_8U8L",
        "colab_type": "code",
        "colab": {}
      },
      "source": [
        "# a@a   # Try uncommenting and running to see the error message"
      ],
      "execution_count": null,
      "outputs": []
    },
    {
      "cell_type": "markdown",
      "metadata": {
        "id": "K9KMkn_d8U8O",
        "colab_type": "text"
      },
      "source": [
        "Let's test some basic identities that should hold for an [invertible matrix](https://en.wikipedia.org/wiki/Invertible_matrix):"
      ]
    },
    {
      "cell_type": "code",
      "metadata": {
        "id": "4ERS_WIB8U8P",
        "colab_type": "code",
        "colab": {}
      },
      "source": [
        "s=np.array([[1, 6, 7],\n",
        " [7, 8, 1],\n",
        " [5, 9, 8]])\n",
        "print(\"Original matrix:\", s, sep=\"\\n\")\n",
        "s_inv = np.linalg.inv(s)\n",
        "print(\"Inverted matrix:\", s_inv, sep=\"\\n\")\n",
        "print(\"Matrix product:\", s @ s_inv, sep=\"\\n\")                            # This should be pretty close to the identity matrix np.eye(3)\n",
        "print(\"Matrix product the other way:\", s_inv @ s, sep=\"\\n\")                            # Same here"
      ],
      "execution_count": null,
      "outputs": []
    },
    {
      "cell_type": "markdown",
      "metadata": {
        "id": "2I-5akPM8U8S",
        "colab_type": "text"
      },
      "source": [
        "Let's try mapping a vector with the matrix and its inverse:"
      ]
    },
    {
      "cell_type": "code",
      "metadata": {
        "id": "ubwkiUQd8U8T",
        "colab_type": "code",
        "colab": {}
      },
      "source": [
        "x=np.array([1,4,2])\n",
        "y = s @ x                  # Transforms x to y\n",
        "print(y)\n",
        "print(s_inv @ y)           # Transforms y back to x"
      ],
      "execution_count": null,
      "outputs": []
    },
    {
      "cell_type": "markdown",
      "metadata": {
        "id": "EZ2WEIOS8U8W",
        "colab_type": "text"
      },
      "source": [
        "#### <div class=\"alert alert-info\">Exercise 4 (matrix power)</div>\n",
        "\n",
        "Repeat the functionality of the NumPy function `numpy.linalg.matrix_power`, which raises a square matrix of shape (m,m) to the `n`th power. Here the multiplication is the matrix multiplication. Square matrix `a` raised to power `n` is therefore `a @ a @ ... @ a` where `a` is repeated `n` times. When n is zero then $a^0$ is equal to `np.eye(m)`.\n",
        "\n",
        "Write function `matrix_power` that gets as first argument a square matrix `a` and as second argument a non-negative integer `n`. The function should return the matrix `a` multiplied by itself `n-1` times.\n",
        "Use Python's `reduce` function and a generator expression.\n",
        "\n",
        "Extend the `matrix_power` function.\n",
        "For negative powers, we define $a^{-1}$ to be equal to the multiplicative inverse of `a`. You can use NumPy's function `numpy.linalg.inv` for this. And you may assume that the input matrix is invertible.\n",
        "\n",
        "<hr/>"
      ]
    },
    {
      "cell_type": "markdown",
      "metadata": {
        "id": "9wdoscRL8U8X",
        "colab_type": "text"
      },
      "source": [
        "#### <div class=\"alert alert-info\">Exercise 5 (correlation)</div>\n",
        "\n",
        "This exercise can give two points at maximum!\n",
        "\n",
        "Load the iris dataset using the provided function `load()` in the stub solution. The four columns of the returned array correspond to\n",
        "\n",
        "* sepal length (cm)\n",
        "* sepal width (cm)\n",
        "* petal length (cm)\n",
        "* petal width (cm)\n",
        "\n",
        "Part 1. What is the Pearson correlation between the variables `sepal length` and `petal length`. Compute this using the `scipy.stats.pearsonr` function. It returns a tuple whose first element is the correlation. Write a function `lengths` that loads the data and returns the correlation.\n",
        "\n",
        "Part 2. What are the correlations between all the variables. Write a function `correlations` that returns an array of shape (4,4) containing the correlations. Use the function `np.corrcoef`. Which pair of variables is the most highly correlated?\n",
        "\n",
        "Note the input formats of both functions `pearsonr` and `corrcoef`.\n",
        "\n",
        "**Note.** There is a problem with the definition of load function in that it tries to load the data from the internet if it isn't in the cache. This may cause failure when submitting, since the internet connection from the test server to the internet is restricted. To fix this, first store the data in the `src` folder. Then you can load the data in your program with the following modified version of the `load` function.\n",
        "\n",
        "```python\n",
        "def get_path(filename):\n",
        "    import sys\n",
        "    import os\n",
        "    return os.path.join(os.path.dirname(sys.argv[0]), \"..\", \"src\", filename)\n",
        "\n",
        "def load():\n",
        "    import pandas as pd\n",
        "    return pd.read_csv(get_path(\"iris.csv\")).drop('species', axis=1).values\n",
        "```\n",
        "\n",
        "To store the data on disk give the following line in IPython shell or in Jupyter:\n",
        "\n",
        "```python\n",
        "import seaborn as sns; sns.load_dataset(\"iris\").to_csv(\"iris.csv\", index=False)\n",
        "```\n",
        "\n",
        "And make sure the created file `iris.csv` is located in the `src` folder.\n",
        "\n",
        "<hr/>"
      ]
    },
    {
      "cell_type": "markdown",
      "metadata": {
        "id": "-LOuo3Qw8U8X",
        "colab_type": "text"
      },
      "source": [
        "## Solving system of linear equations"
      ]
    },
    {
      "cell_type": "markdown",
      "metadata": {
        "id": "nr2Q8e118U8Y",
        "colab_type": "text"
      },
      "source": [
        "The NumPy library has function [np.linalg.solve](https://docs.scipy.org/doc/scipy/reference/generated/scipy.linalg.solve.html) to solve systems of linear equations. The `solve` function gets as parameters the coefficient matrix and the vector containing the constant term. Below is an example of the general system of linear equations\n",
        "\n",
        "$$a_{11}x_1 + a_{12}x_2 + \\cdots a_{1m}x_m = b_1\\\\\n",
        "a_{21}x_1 + a_{22}x_2 + \\cdots a_{2m}x_m = b_2\\\\\n",
        "\\cdots\\\\\n",
        "a_{n1}x_1 + a_{n2}x_2 + \\cdots a_{nm}x_m = b_n\\\\\n",
        "$$\n",
        "\n",
        "\n",
        "and the equivalent matrix form\n",
        "\n",
        "$$A \\cdot x = b$$\n",
        "\n",
        "where $A$ has shape `(n,m)`, the unknown $x$ has shape `(m,1)`, and $b$ has shape `(n,1)`."
      ]
    },
    {
      "cell_type": "markdown",
      "metadata": {
        "id": "KhZGs8tQ8U8Z",
        "colab_type": "text"
      },
      "source": [
        "#### <div class=\"alert alert-info\">Exercise 6 (meeting lines)</div>\n",
        "\n",
        "Write function `meeting_lines` that gets the coefficients of two lines as parameters and returns the point where the two lines meet. The equations for the lines are $y=a_1x + b_1$ and $y=a_2x + b_2$. Use the `np.linalg.solve` function. Create a main function to test your solution.\n",
        "\n",
        "Example of usage:\n",
        "```\n",
        "x, y = meeting_lines(a1, b1, a2, b2)\n",
        "```\n",
        "<hr/>"
      ]
    },
    {
      "cell_type": "markdown",
      "metadata": {
        "id": "LL529K_a8U8Z",
        "colab_type": "text"
      },
      "source": [
        "#### <div class=\"alert alert-info\">Exercise 7 (meeting planes)</div>\n",
        "Write function `meeting_planes` that gets the coefficients of three planes as parameters and returns the point where the planes meet. The equations for the planes are:\n",
        "$z =a_1y + b_1x+ c_1$,\n",
        "$z =a_2y + b_2x+ c_2$, and\n",
        "$z =a_3y + b_3x+ c_3$.\n",
        "\n",
        "Example of usage:\n",
        "```\n",
        "x, y, z = meeting_planes(a1, b1, c1,  a2, b2, c2,  a3, b3, c3)\n",
        "```\n",
        "<hr/>"
      ]
    },
    {
      "cell_type": "markdown",
      "metadata": {
        "id": "B5g6J84S8U8a",
        "colab_type": "text"
      },
      "source": [
        "#### <div class=\"alert alert-info\">Exercise 8 (almost meeting lines)</div>\n",
        "In the earlier \"meeting lines\" exercise there is a problem if the lines don't meet at all. Extend that solution so that it tells the meeting point if it exists, and otherwise finds the point that is closest to the both lines.\n",
        "You can use the `numpy.linalg.lstsq` for this.\n",
        "\n",
        "Example of usage:\n",
        "```\n",
        "(x, y), exact = almost_meeting_lines(1, 2, -1, 0)\n",
        "print(x, y, exact)\n",
        "-1.000000 1.000000 True\n",
        "```\n",
        "\n",
        "<hr/>"
      ]
    },
    {
      "cell_type": "markdown",
      "metadata": {
        "id": "_J0iPrp18U8b",
        "colab_type": "text"
      },
      "source": [
        "<!--NAVIGATION-->\n",
        "\n",
        "\n",
        "<a href=\"https://colab.research.google.com/github/saskeli/x/blob/master/numpy2.ipynb\"><img align=\"left\" src=\"https://colab.research.google.com/assets/colab-badge.svg\" alt=\"Open in Colab\" title=\"Open and Execute in Google Colaboratory\"></a>\n"
      ]
    }
  ]
}